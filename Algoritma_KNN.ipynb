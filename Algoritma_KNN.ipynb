{
  "nbformat": 4,
  "nbformat_minor": 0,
  "metadata": {
    "colab": {
      "provenance": [],
      "collapsed_sections": [
        "QlhHuuILjltN",
        "BkEtz_h1lxDV",
        "OGfTScUfqz5-"
      ],
      "include_colab_link": true
    },
    "kernelspec": {
      "name": "python3",
      "display_name": "Python 3"
    },
    "language_info": {
      "name": "python"
    }
  },
  "cells": [
    {
      "cell_type": "markdown",
      "metadata": {
        "id": "view-in-github",
        "colab_type": "text"
      },
      "source": [
        "<a href=\"https://colab.research.google.com/github/Yoasrumbrawer/Yoasrumbrawer_TM9/blob/main/Algoritma_KNN.ipynb\" target=\"_parent\"><img src=\"https://colab.research.google.com/assets/colab-badge.svg\" alt=\"Open In Colab\"/></a>"
      ]
    },
    {
      "cell_type": "markdown",
      "metadata": {
        "id": "QlhHuuILjltN"
      },
      "source": [
        "#**Pembuka**\n",
        "Assalamu'alaikum warahmatullahi wabarakatuh. Puji syukur kehadirat Allah Subhana Wata'ala atas limpahan Rahmat dan HidayahNya kepada kita semua. Sholawat serta salam senantiasa tercurah limpahkan kepada baginda Muhammad Rasulullah Salallahualaihiwassalam.\n",
        "\n",
        "Halo para **Pejuang Data**. Selamat berjumpa di pertemuan kelima Program Training **Algoritma Machine Learning** Kelas Mahir.\n",
        "\n",
        "Pada pertemuan ini kamu akan belajar:\n",
        "*   Algoritma KNN\n",
        "*   Contoh Perhitungan Manual Algoritma KNN\n",
        "*   KNN Python From Scratch\n",
        "\n"
      ]
    },
    {
      "cell_type": "markdown",
      "metadata": {
        "id": "duw2bc09ky31"
      },
      "source": [
        "#**Algoritma K-Nearest Neighbor(KNN)**\n",
        "Algoritma K-Nearest Neighbors adalah algoritma Machine Learning yang melakukan klasifikasi sebuah data didasarkan pada sifat-sifat data didekatnya. Sebuah ungkapan yang bisa membantu dengan mudah memahami ide dasar dari algoritma ini adalah: \"Jika kamu ingin mengetahui sifat seseorang, lihatlah sifat-sifat orang terdekatnya. Sifatnya tidak akan jauh berbeda dari mereka\".\n",
        "\n",
        "Gambar di bawah ini dapat mengilustrasikan hal di atas dengan jelas\n",
        "\n",
        "\n"
      ]
    },
    {
      "cell_type": "markdown",
      "metadata": {
        "id": "ircNe6xildPC"
      },
      "source": [
        "Data baru yang dilmbangkan dengan simbol segitiga biru dapat diklasifikasikan sebagai kelompok kotak hijau atau bintang merah jambu. Jika dilihat berdasarkan kriteria jumlah k=1 maka data segitiga biru diklasifikasikan ke dalam kelompok kotak hijau. Sedangkan jika dilihat berdasarkan kriteria jumlah k=3 maka data tersebut maka diklasifikasikan sebagai kelompok bintang merah jambu. Hal yang sama juga dapat diterapkan untuk k=9. Sebenarnya, kita telah melakukan klasifikasi berdasarkan jarak. Kedekatan yang dimaksud ketika k=1, k=3, dan k=9, kita selalu mengukur kedekatan antara data baru(segitiga biru) dengan data-data berlabel kelompok sebelumnya. Berdasarkan ide dasar di atas, maka diturunkanlah dalam sebuah algoritma untuk menentukan kelompok data dari sebuah inputan data baru(segitiga biru)."
      ]
    },
    {
      "cell_type": "markdown",
      "metadata": {
        "id": "BkEtz_h1lxDV"
      },
      "source": [
        "#**Algoritma KNN**\n",
        "1. Menentukan parameter k (jumlah tetangga paling dekat).\n",
        "2. Menghitung jarak eucliden objek terhadap data training yang diberikan.\n",
        "3. Mengurutkan hasil no 2 secara ascending (berurutan dari nilai tinggi ke rendah)\n",
        "4. Mengumpulkan kategori data (Klasifikasi nearest neighbor berdasarkan nilai k)\n",
        "5. Dengan menggunakan kategori nearest neighbor yang paling mayoritas maka dapat dipredisikan kategori\n",
        "objek."
      ]
    },
    {
      "cell_type": "markdown",
      "metadata": {
        "id": "OGfTScUfqz5-"
      },
      "source": [
        "#**Contoh Perhitungan K-Nearest Neighbor**\n",
        "Diketahui data $x_1$ dan $x_2$ adalah sebagai berikut:\n",
        "\n",
        "\\begin{matrix}\n",
        " x_1 & x_2 & Kelas\\\\\n",
        "1 & 1 & 0\\\\\n",
        "2 & 2 & 0\\\\\n",
        "3 & 2 & 0\\\\\n",
        "12 & 11 & 1\\\\\n",
        "11 & 13 & 1\\\\\n",
        "14 & 15 & 1\\\\\n",
        "\\end{matrix}\n",
        "\n",
        "Kita diminta menentukan kelas dari data baru yaitu (9,10) dengan parameter k=3\n",
        "\n",
        "**Langkah 1:**\n",
        "\n",
        "Menentukan parameter k (jumlah tetangga paling dekat)\n",
        "\n",
        "k=3\n",
        "\n",
        "**Langkah 2:**\n",
        "\n",
        "Menghitung jarak eucliden objek terhadap data training yang diberikan.\n",
        "\n",
        "Formula jarak Euclidean:\n",
        "\n",
        "$$ d,j = \\sqrt{(x1_i - x1j)^2+(x2_i - x2_j)^2} \\ untuk, j= 1,2,3,....n $$\n",
        "\n",
        "\\begin{matrix}\n",
        " x_1 & x_2 & Jarak Euclidendengan(9,10)\\\\\n",
        "1 & 1 & \\sqrt{(9-1)^2+(10-1)^2}= 12.04\\\\\n",
        "2 & 2 & \\sqrt{(9-2)^2+(10-2)^2}= 10.63\\\\\n",
        "3 & 2 & \\sqrt{(9-3)^2+(10-2)^2}= 10\\\\\n",
        "12 & 11 & \\sqrt{(9-12)^2+(10-11)^2} = 3.16\\\\\n",
        "11 & 13 & \\sqrt{(9-11)^2+(9-13)^2} = 3.60\\\\\n",
        "14 & 15 & \\sqrt{(9-14)^2+(9-15)^2} = 7.07\\\\\n",
        "\\end{matrix}\n",
        "\n",
        "**Langkah 3:**\n",
        "\n",
        "Mengurutkan hasil langkah 2 secara ascending (berurutan dari nilai tinggi ke rendah)\n",
        "\n",
        "\\begin{matrix}\n",
        " x_1 & x_2 & Jarak \\ Eucliden\\ dengan\\ (9,10) & Urutan(Jarak\\ terpendek)\\\\\n",
        "1 & 1 & \\sqrt{(9-1)^2+(10-1)^2}= 12.04 & 6\\\\\n",
        "2 & 2 & \\sqrt{(9-2)^2+(10-2)^2}= 10.63 & 5\\\\\n",
        "3 & 2 & \\sqrt{(9-3)^2+(10-2)^2}= 10 & 4\\\\\n",
        "12 & 11 & \\sqrt{(9-12)^2+(10-11)^2} = 3.16 & 1\\\\\n",
        "11 & 13 & \\sqrt{(9-11)^2+(9-13)^2} = 3.60 & 2\\\\\n",
        "14 & 15 & \\sqrt{(9-14)^2+(9-15)^2} = 7.07 & 3\\\\\n",
        "\\end{matrix}\n",
        "\n",
        "**Langkah 4:**\n",
        "\n",
        "Mengumpulkan kategori data(klasifikasi nearest neighbor berdasarkan nilai k)\n",
        "\n",
        "Kelas data 3 data terdekat (k=3)\n",
        "\n",
        "$(12,11)=1, (11,13)=1, (14,15)=1$\n",
        "\n",
        "**Langkah 5:**\n",
        "\n",
        "Dengan menggunakan kategori nearest neighbor yang paling mayoritas maka dapat dipredisikan kategori objek.\n",
        "\n",
        "Kelas data untuk k=3\n",
        "\n",
        "$'0'=0,\\ '1'=3$\n",
        "\n",
        "Maka disimpulkan bahwa data (9,10) diklasifikasikan ke kelas '1'.\n",
        "\n"
      ]
    },
    {
      "cell_type": "markdown",
      "metadata": {
        "id": "VkFyQtRkkrid"
      },
      "source": [
        "#**KNN Python From Scratch**\n",
        "\n",
        "##**Membangun Model KNN**\n",
        "Pertama, import library python yang dibutuhkan yaitu:\n",
        "\n",
        "\n",
        "*   Numpy\n",
        "*   Pandas\n",
        "*   Matplotlib\n",
        "\n",
        "\n",
        "\n",
        "\n"
      ]
    },
    {
      "cell_type": "code",
      "metadata": {
        "id": "_gt9l7Rer2QM"
      },
      "source": [
        "import numpy as np\n",
        "import pandas as pd\n",
        "import matplotlib.pyplot as plt\n",
        "%matplotlib inline"
      ],
      "execution_count": 1,
      "outputs": []
    },
    {
      "cell_type": "markdown",
      "metadata": {
        "id": "IZBnXI4gsV0l"
      },
      "source": [
        "Untuk memahami konsep, kita akan menggunakan data X dan Y seperti yang kita tunjukkan pada proses\n",
        "penghitungan manual."
      ]
    },
    {
      "cell_type": "code",
      "metadata": {
        "id": "LQ1iMKRGsYqE"
      },
      "source": [
        "X=np.array([[1,1], [2,2], [3,2], [12,11], [11,13], [14,15]])\n",
        "y=np.array([0,0,0,1,1,1])\n",
        "x_baru=np.array([9,10])"
      ],
      "execution_count": 2,
      "outputs": []
    },
    {
      "cell_type": "code",
      "metadata": {
        "colab": {
          "base_uri": "https://localhost:8080/"
        },
        "id": "eHxpMQbkseUX",
        "outputId": "146ad63c-4775-4b2b-e1e0-fcb072f25a94"
      },
      "source": [
        "X"
      ],
      "execution_count": 3,
      "outputs": [
        {
          "output_type": "execute_result",
          "data": {
            "text/plain": [
              "array([[ 1,  1],\n",
              "       [ 2,  2],\n",
              "       [ 3,  2],\n",
              "       [12, 11],\n",
              "       [11, 13],\n",
              "       [14, 15]])"
            ]
          },
          "metadata": {},
          "execution_count": 3
        }
      ]
    },
    {
      "cell_type": "code",
      "metadata": {
        "colab": {
          "base_uri": "https://localhost:8080/"
        },
        "id": "dJ1eyzxxskND",
        "outputId": "14433382-6938-4859-b123-254862bbb8ab"
      },
      "source": [
        "y"
      ],
      "execution_count": 4,
      "outputs": [
        {
          "output_type": "execute_result",
          "data": {
            "text/plain": [
              "array([0, 0, 0, 1, 1, 1])"
            ]
          },
          "metadata": {},
          "execution_count": 4
        }
      ]
    },
    {
      "cell_type": "code",
      "metadata": {
        "colab": {
          "base_uri": "https://localhost:8080/"
        },
        "id": "E0JnHJKIsmhX",
        "outputId": "1ca13aeb-65d4-4123-fc8b-12bb77e5e8c1"
      },
      "source": [
        "x_baru\n"
      ],
      "execution_count": 5,
      "outputs": [
        {
          "output_type": "execute_result",
          "data": {
            "text/plain": [
              "array([ 9, 10])"
            ]
          },
          "metadata": {},
          "execution_count": 5
        }
      ]
    },
    {
      "cell_type": "markdown",
      "metadata": {
        "id": "iIhurXKEsqGs"
      },
      "source": [
        "**Langkah 1:**\n",
        "\n",
        "Menentukan parameter k (jumlah tetangga paling dekat)"
      ]
    },
    {
      "cell_type": "code",
      "metadata": {
        "id": "wB7l018Ds04X"
      },
      "source": [
        "k=3"
      ],
      "execution_count": 6,
      "outputs": []
    },
    {
      "cell_type": "markdown",
      "metadata": {
        "id": "nuZTHobSs5CN"
      },
      "source": [
        "**Langkah 2:**\n",
        "\n",
        "Menghitung kuadrat jarak eucliden objek terhadap data training yang diberikan."
      ]
    },
    {
      "cell_type": "code",
      "metadata": {
        "id": "AOftH3gSvVlV"
      },
      "source": [
        "def jarak_euclidean(x,y):\n",
        " return np.sqrt(sum(pow(a-b, 2) for a, b in zip(x,y)))"
      ],
      "execution_count": 7,
      "outputs": []
    },
    {
      "cell_type": "code",
      "metadata": {
        "colab": {
          "base_uri": "https://localhost:8080/"
        },
        "id": "9Juief39vaX5",
        "outputId": "ca3a8435-29ee-43eb-cd45-f8f1c413d1cf"
      },
      "source": [
        "jarak=[]\n",
        "for x_i in X:\n",
        " jarak_euclid=jarak_euclidean(x_i,x_baru)\n",
        " jarak.append(jarak_euclid)\n",
        " print(jarak)\n",
        "print(jarak)"
      ],
      "execution_count": 8,
      "outputs": [
        {
          "output_type": "stream",
          "name": "stdout",
          "text": [
            "[12.041594578792296]\n",
            "[12.041594578792296, 10.63014581273465]\n",
            "[12.041594578792296, 10.63014581273465, 10.0]\n",
            "[12.041594578792296, 10.63014581273465, 10.0, 3.1622776601683795]\n",
            "[12.041594578792296, 10.63014581273465, 10.0, 3.1622776601683795, 3.605551275463989]\n",
            "[12.041594578792296, 10.63014581273465, 10.0, 3.1622776601683795, 3.605551275463989, 7.0710678118654755]\n",
            "[12.041594578792296, 10.63014581273465, 10.0, 3.1622776601683795, 3.605551275463989, 7.0710678118654755]\n"
          ]
        }
      ]
    },
    {
      "cell_type": "markdown",
      "metadata": {
        "id": "BaIaTrjmvlb0"
      },
      "source": [
        "**Langkah 3:**\n",
        "\n",
        "Mengurutkan hasil langkah 2 secara ascending (berurutan dari nilai tinggi ke rendah)"
      ]
    },
    {
      "cell_type": "code",
      "metadata": {
        "colab": {
          "base_uri": "https://localhost:8080/"
        },
        "id": "gdmL5i3UvrRK",
        "outputId": "3df0bb59-bb10-48b5-c1d5-5d9c7c0a9bcd"
      },
      "source": [
        "urut=np.sort(jarak)\n",
        "list_urut=[]\n",
        "for i in range(len(urut)):\n",
        " list_urut.append(urut[i])\n",
        "print(list_urut)"
      ],
      "execution_count": 9,
      "outputs": [
        {
          "output_type": "stream",
          "name": "stdout",
          "text": [
            "[3.1622776601683795, 3.605551275463989, 7.0710678118654755, 10.0, 10.63014581273465, 12.041594578792296]\n"
          ]
        }
      ]
    },
    {
      "cell_type": "code",
      "metadata": {
        "colab": {
          "base_uri": "https://localhost:8080/"
        },
        "id": "-I2I3KYjvwVS",
        "outputId": "e1902394-f50a-4c40-f330-9fd0f2fe19e1"
      },
      "source": [
        "urutan=[]\n",
        "for i in list_urut:\n",
        " urtn=jarak.index(i)\n",
        " urutan.append(urtn)\n",
        "print(urutan)"
      ],
      "execution_count": 10,
      "outputs": [
        {
          "output_type": "stream",
          "name": "stdout",
          "text": [
            "[3, 4, 5, 2, 1, 0]\n"
          ]
        }
      ]
    },
    {
      "cell_type": "markdown",
      "metadata": {
        "id": "QLYKS4N5v61u"
      },
      "source": [
        "atau dengan sederhana dapat menggunakan np.argsort seperti berikut:"
      ]
    },
    {
      "cell_type": "code",
      "metadata": {
        "colab": {
          "base_uri": "https://localhost:8080/"
        },
        "id": "CGZDs3eLv-zJ",
        "outputId": "6de8e6c8-0b6f-4371-af00-d607436296b6"
      },
      "source": [
        "np.argsort(jarak)"
      ],
      "execution_count": 11,
      "outputs": [
        {
          "output_type": "execute_result",
          "data": {
            "text/plain": [
              "array([3, 4, 5, 2, 1, 0])"
            ]
          },
          "metadata": {},
          "execution_count": 11
        }
      ]
    },
    {
      "cell_type": "markdown",
      "metadata": {
        "id": "-NQr4czuwGkN"
      },
      "source": [
        "**Langkah 4:**\n",
        "\n",
        "Mengumpulkan kategori data (Klasifikasi nearest neighbor berdasarkan nilai k)\n",
        "\n",
        "Kelas data 3 data terdekat(k=3)"
      ]
    },
    {
      "cell_type": "code",
      "metadata": {
        "colab": {
          "base_uri": "https://localhost:8080/"
        },
        "id": "-WZyvwxnwMp7",
        "outputId": "3313ffef-c94f-42fc-9bd1-358b9deec40f"
      },
      "source": [
        "ambil=urutan[:k]\n",
        "print(y[ambil])"
      ],
      "execution_count": 12,
      "outputs": [
        {
          "output_type": "stream",
          "name": "stdout",
          "text": [
            "[1 1 1]\n"
          ]
        }
      ]
    },
    {
      "cell_type": "markdown",
      "metadata": {
        "id": "tLKSlrLyway9"
      },
      "source": [
        "**Langkah 5:**\n",
        "\n",
        "Dengan menggunakan kategori nearest neighbor yang paling mayoritas maka dapat dipredisikan kategori\n",
        "objek.\n"
      ]
    },
    {
      "cell_type": "code",
      "metadata": {
        "colab": {
          "base_uri": "https://localhost:8080/"
        },
        "id": "kYQvjwhzwhBA",
        "outputId": "8150eabc-88c7-47a0-e089-90457c30ee82"
      },
      "source": [
        "from collections import Counter\n",
        "kelas_paling_banyak = Counter(y[ambil]).most_common(1)\n",
        "kelas_paling_banyak\n"
      ],
      "execution_count": 13,
      "outputs": [
        {
          "output_type": "execute_result",
          "data": {
            "text/plain": [
              "[(1, 3)]"
            ]
          },
          "metadata": {},
          "execution_count": 13
        }
      ]
    },
    {
      "cell_type": "code",
      "metadata": {
        "colab": {
          "base_uri": "https://localhost:8080/"
        },
        "id": "kkOBYyN1wkhB",
        "outputId": "7439a547-ba87-48d7-a60b-95b853a6abcb"
      },
      "source": [
        "kelas_paling_banyak[0][0]\n"
      ],
      "execution_count": 14,
      "outputs": [
        {
          "output_type": "execute_result",
          "data": {
            "text/plain": [
              "1"
            ]
          },
          "metadata": {},
          "execution_count": 14
        }
      ]
    },
    {
      "cell_type": "code",
      "metadata": {
        "colab": {
          "base_uri": "https://localhost:8080/",
          "height": 449
        },
        "id": "x5mBS5kqwpAr",
        "outputId": "07567f93-b808-4f24-a28a-b23eea05e5ab"
      },
      "source": [
        "# Plot Data\n",
        "df = pd.DataFrame(X, columns =['x1', 'x2'])\n",
        "colormap = np.array(['g', 'b'])\n",
        "label=['A', 'A', 'A', 'B', 'B', 'B']\n",
        "# Plot Titik Data\n",
        "plt.scatter(df['x1'], df['x2'], color=colormap[y])\n",
        "\n",
        "plt.scatter(x_baru[0], x_baru[1], color='r', label='Data Baru')\n",
        "# Label sumbu\n",
        "plt.xlabel('x_1')\n",
        "\n",
        "# Label sumbu y\n",
        "plt.ylabel('x_2')\n",
        "\n",
        "# Menampilkan Legenda\n",
        "plt.legend()\n",
        "\n",
        "# Menampilkan Gambar Hasil Plot\n",
        "plt.show()\n"
      ],
      "execution_count": 15,
      "outputs": [
        {
          "output_type": "display_data",
          "data": {
            "text/plain": [
              "<Figure size 640x480 with 1 Axes>"
            ],
            "image/png": "[encoded data removed]"
          },
          "metadata": {}
        }
      ]
    },
    {
      "cell_type": "markdown",
      "metadata": {
        "id": "66gICDW3w5Is"
      },
      "source": [
        "Maka disimpulkan bahwa data (9,10) diklasifikasikan ke kelas '1'."
      ]
    },
    {
      "cell_type": "markdown",
      "metadata": {
        "id": "KJD09uDzxHoD"
      },
      "source": [
        "#**Implementasi Model KNN Pada Data Real**\n",
        "\n",
        "Kita akan menggunakan dataset Iris yang tersedia di sklearn dataset.\n"
      ]
    },
    {
      "cell_type": "code",
      "metadata": {
        "colab": {
          "base_uri": "https://localhost:8080/"
        },
        "id": "YkE2ax1hxSGP",
        "outputId": "f5d8b23b-cd5c-4a39-9391-7580febd1299"
      },
      "source": [
        "from matplotlib.colors import ListedColormap\n",
        "from sklearn import datasets\n",
        "from sklearn.model_selection import train_test_split\n",
        "iris = datasets.load_iris()\n",
        "iris\n"
      ],
      "execution_count": 16,
      "outputs": [
        {
          "output_type": "execute_result",
          "data": {
            "text/plain": [
              "{'data': array([[5.1, 3.5, 1.4, 0.2],\n",
              "        [4.9, 3. , 1.4, 0.2],\n",
              "        [4.7, 3.2, 1.3, 0.2],\n",
              "        [4.6, 3.1, 1.5, 0.2],\n",
              "        [5. , 3.6, 1.4, 0.2],\n",
              "        [5.4, 3.9, 1.7, 0.4],\n",
              "        [4.6, 3.4, 1.4, 0.3],\n",
              "        [5. , 3.4, 1.5, 0.2],\n",
              "        [4.4, 2.9, 1.4, 0.2],\n",
              "        [4.9, 3.1, 1.5, 0.1],\n",
              "        [5.4, 3.7, 1.5, 0.2],\n",
              "        [4.8, 3.4, 1.6, 0.2],\n",
              "        [4.8, 3. , 1.4, 0.1],\n",
              "        [4.3, 3. , 1.1, 0.1],\n",
              "        [5.8, 4. , 1.2, 0.2],\n",
              "        [5.7, 4.4, 1.5, 0.4],\n",
              "        [5.4, 3.9, 1.3, 0.4],\n",
              "        [5.1, 3.5, 1.4, 0.3],\n",
              "        [5.7, 3.8, 1.7, 0.3],\n",
              "        [5.1, 3.8, 1.5, 0.3],\n",
              "        [5.4, 3.4, 1.7, 0.2],\n",
              "        [5.1, 3.7, 1.5, 0.4],\n",
              "        [4.6, 3.6, 1. , 0.2],\n",
              "        [5.1, 3.3, 1.7, 0.5],\n",
              "        [4.8, 3.4, 1.9, 0.2],\n",
              "        [5. , 3. , 1.6, 0.2],\n",
              "        [5. , 3.4, 1.6, 0.4],\n",
              "        [5.2, 3.5, 1.5, 0.2],\n",
              "        [5.2, 3.4, 1.4, 0.2],\n",
              "        [4.7, 3.2, 1.6, 0.2],\n",
              "        [4.8, 3.1, 1.6, 0.2],\n",
              "        [5.4, 3.4, 1.5, 0.4],\n",
              "        [5.2, 4.1, 1.5, 0.1],\n",
              "        [5.5, 4.2, 1.4, 0.2],\n",
              "        [4.9, 3.1, 1.5, 0.2],\n",
              "        [5. , 3.2, 1.2, 0.2],\n",
              "        [5.5, 3.5, 1.3, 0.2],\n",
              "        [4.9, 3.6, 1.4, 0.1],\n",
              "        [4.4, 3. , 1.3, 0.2],\n",
              "        [5.1, 3.4, 1.5, 0.2],\n",
              "        [5. , 3.5, 1.3, 0.3],\n",
              "        [4.5, 2.3, 1.3, 0.3],\n",
              "        [4.4, 3.2, 1.3, 0.2],\n",
              "        [5. , 3.5, 1.6, 0.6],\n",
              "        [5.1, 3.8, 1.9, 0.4],\n",
              "        [4.8, 3. , 1.4, 0.3],\n",
              "        [5.1, 3.8, 1.6, 0.2],\n",
              "        [4.6, 3.2, 1.4, 0.2],\n",
              "        [5.3, 3.7, 1.5, 0.2],\n",
              "        [5. , 3.3, 1.4, 0.2],\n",
              "        [7. , 3.2, 4.7, 1.4],\n",
              "        [6.4, 3.2, 4.5, 1.5],\n",
              "        [6.9, 3.1, 4.9, 1.5],\n",
              "        [5.5, 2.3, 4. , 1.3],\n",
              "        [6.5, 2.8, 4.6, 1.5],\n",
              "        [5.7, 2.8, 4.5, 1.3],\n",
              "        [6.3, 3.3, 4.7, 1.6],\n",
              "        [4.9, 2.4, 3.3, 1. ],\n",
              "        [6.6, 2.9, 4.6, 1.3],\n",
              "        [5.2, 2.7, 3.9, 1.4],\n",
              "        [5. , 2. , 3.5, 1. ],\n",
              "        [5.9, 3. , 4.2, 1.5],\n",
              "        [6. , 2.2, 4. , 1. ],\n",
              "        [6.1, 2.9, 4.7, 1.4],\n",
              "        [5.6, 2.9, 3.6, 1.3],\n",
              "        [6.7, 3.1, 4.4, 1.4],\n",
              "        [5.6, 3. , 4.5, 1.5],\n",
              "        [5.8, 2.7, 4.1, 1. ],\n",
              "        [6.2, 2.2, 4.5, 1.5],\n",
              "        [5.6, 2.5, 3.9, 1.1],\n",
              "        [5.9, 3.2, 4.8, 1.8],\n",
              "        [6.1, 2.8, 4. , 1.3],\n",
              "        [6.3, 2.5, 4.9, 1.5],\n",
              "        [6.1, 2.8, 4.7, 1.2],\n",
              "        [6.4, 2.9, 4.3, 1.3],\n",
              "        [6.6, 3. , 4.4, 1.4],\n",
              "        [6.8, 2.8, 4.8, 1.4],\n",
              "        [6.7, 3. , 5. , 1.7],\n",
              "        [6. , 2.9, 4.5, 1.5],\n",
              "        [5.7, 2.6, 3.5, 1. ],\n",
              "        [5.5, 2.4, 3.8, 1.1],\n",
              "        [5.5, 2.4, 3.7, 1. ],\n",
              "        [5.8, 2.7, 3.9, 1.2],\n",
              "        [6. , 2.7, 5.1, 1.6],\n",
              "        [5.4, 3. , 4.5, 1.5],\n",
              "        [6. , 3.4, 4.5, 1.6],\n",
              "        [6.7, 3.1, 4.7, 1.5],\n",
              "        [6.3, 2.3, 4.4, 1.3],\n",
              "        [5.6, 3. , 4.1, 1.3],\n",
              "        [5.5, 2.5, 4. , 1.3],\n",
              "        [5.5, 2.6, 4.4, 1.2],\n",
              "        [6.1, 3. , 4.6, 1.4],\n",
              "        [5.8, 2.6, 4. , 1.2],\n",
              "        [5. , 2.3, 3.3, 1. ],\n",
              "        [5.6, 2.7, 4.2, 1.3],\n",
              "        [5.7, 3. , 4.2, 1.2],\n",
              "        [5.7, 2.9, 4.2, 1.3],\n",
              "        [6.2, 2.9, 4.3, 1.3],\n",
              "        [5.1, 2.5, 3. , 1.1],\n",
              "        [5.7, 2.8, 4.1, 1.3],\n",
              "        [6.3, 3.3, 6. , 2.5],\n",
              "        [5.8, 2.7, 5.1, 1.9],\n",
              "        [7.1, 3. , 5.9, 2.1],\n",
              "        [6.3, 2.9, 5.6, 1.8],\n",
              "        [6.5, 3. , 5.8, 2.2],\n",
              "        [7.6, 3. , 6.6, 2.1],\n",
              "        [4.9, 2.5, 4.5, 1.7],\n",
              "        [7.3, 2.9, 6.3, 1.8],\n",
              "        [6.7, 2.5, 5.8, 1.8],\n",
              "        [7.2, 3.6, 6.1, 2.5],\n",
              "        [6.5, 3.2, 5.1, 2. ],\n",
              "        [6.4, 2.7, 5.3, 1.9],\n",
              "        [6.8, 3. , 5.5, 2.1],\n",
              "        [5.7, 2.5, 5. , 2. ],\n",
              "        [5.8, 2.8, 5.1, 2.4],\n",
              "        [6.4, 3.2, 5.3, 2.3],\n",
              "        [6.5, 3. , 5.5, 1.8],\n",
              "        [7.7, 3.8, 6.7, 2.2],\n",
              "        [7.7, 2.6, 6.9, 2.3],\n",
              "        [6. , 2.2, 5. , 1.5],\n",
              "        [6.9, 3.2, 5.7, 2.3],\n",
              "        [5.6, 2.8, 4.9, 2. ],\n",
              "        [7.7, 2.8, 6.7, 2. ],\n",
              "        [6.3, 2.7, 4.9, 1.8],\n",
              "        [6.7, 3.3, 5.7, 2.1],\n",
              "        [7.2, 3.2, 6. , 1.8],\n",
              "        [6.2, 2.8, 4.8, 1.8],\n",
              "        [6.1, 3. , 4.9, 1.8],\n",
              "        [6.4, 2.8, 5.6, 2.1],\n",
              "        [7.2, 3. , 5.8, 1.6],\n",
              "        [7.4, 2.8, 6.1, 1.9],\n",
              "        [7.9, 3.8, 6.4, 2. ],\n",
              "        [6.4, 2.8, 5.6, 2.2],\n",
              "        [6.3, 2.8, 5.1, 1.5],\n",
              "        [6.1, 2.6, 5.6, 1.4],\n",
              "        [7.7, 3. , 6.1, 2.3],\n",
              "        [6.3, 3.4, 5.6, 2.4],\n",
              "        [6.4, 3.1, 5.5, 1.8],\n",
              "        [6. , 3. , 4.8, 1.8],\n",
              "        [6.9, 3.1, 5.4, 2.1],\n",
              "        [6.7, 3.1, 5.6, 2.4],\n",
              "        [6.9, 3.1, 5.1, 2.3],\n",
              "        [5.8, 2.7, 5.1, 1.9],\n",
              "        [6.8, 3.2, 5.9, 2.3],\n",
              "        [6.7, 3.3, 5.7, 2.5],\n",
              "        [6.7, 3. , 5.2, 2.3],\n",
              "        [6.3, 2.5, 5. , 1.9],\n",
              "        [6.5, 3. , 5.2, 2. ],\n",
              "        [6.2, 3.4, 5.4, 2.3],\n",
              "        [5.9, 3. , 5.1, 1.8]]),\n",
              " 'target': array([0, 0, 0, 0, 0, 0, 0, 0, 0, 0, 0, 0, 0, 0, 0, 0, 0, 0, 0, 0, 0, 0,\n",
              "        0, 0, 0, 0, 0, 0, 0, 0, 0, 0, 0, 0, 0, 0, 0, 0, 0, 0, 0, 0, 0, 0,\n",
              "        0, 0, 0, 0, 0, 0, 1, 1, 1, 1, 1, 1, 1, 1, 1, 1, 1, 1, 1, 1, 1, 1,\n",
              "        1, 1, 1, 1, 1, 1, 1, 1, 1, 1, 1, 1, 1, 1, 1, 1, 1, 1, 1, 1, 1, 1,\n",
              "        1, 1, 1, 1, 1, 1, 1, 1, 1, 1, 1, 1, 2, 2, 2, 2, 2, 2, 2, 2, 2, 2,\n",
              "        2, 2, 2, 2, 2, 2, 2, 2, 2, 2, 2, 2, 2, 2, 2, 2, 2, 2, 2, 2, 2, 2,\n",
              "        2, 2, 2, 2, 2, 2, 2, 2, 2, 2, 2, 2, 2, 2, 2, 2, 2, 2]),\n",
              " 'frame': None,\n",
              " 'target_names': array(['setosa', 'versicolor', 'virginica'], dtype='<U10'),\n",
              " 'DESCR': '.. _iris_dataset:\\n\\nIris plants dataset\\n--------------------\\n\\n**Data Set Characteristics:**\\n\\n    :Number of Instances: 150 (50 in each of three classes)\\n    :Number of Attributes: 4 numeric, predictive attributes and the class\\n    :Attribute Information:\\n        - sepal length in cm\\n        - sepal width in cm\\n        - petal length in cm\\n        - petal width in cm\\n        - class:\\n                - Iris-Setosa\\n                - Iris-Versicolour\\n                - Iris-Virginica\\n                \\n    :Summary Statistics:\\n\\n    ============== ==== ==== ======= ===== ====================\\n                    Min  Max   Mean    SD   Class Correlation\\n    ============== ==== ==== ======= ===== ====================\\n    sepal length:   4.3  7.9   5.84   0.83    0.7826\\n    sepal width:    2.0  4.4   3.05   0.43   -0.4194\\n    petal length:   1.0  6.9   3.76   1.76    0.9490  (high!)\\n    petal width:    0.1  2.5   1.20   0.76    0.9565  (high!)\\n    ============== ==== ==== ======= ===== ====================\\n\\n    :Missing Attribute Values: None\\n    :Class Distribution: 33.3% for each of 3 classes.\\n    :Creator: R.A. Fisher\\n    :Donor: Michael Marshall (MARSHALL%PLU@io.arc.nasa.gov)\\n    :Date: July, 1988\\n\\nThe famous Iris database, first used by Sir R.A. Fisher. The dataset is taken\\nfrom Fisher\\'s paper. Note that it\\'s the same as in R, but not as in the UCI\\nMachine Learning Repository, which has two wrong data points.\\n\\nThis is perhaps the best known database to be found in the\\npattern recognition literature.  Fisher\\'s paper is a classic in the field and\\nis referenced frequently to this day.  (See Duda & Hart, for example.)  The\\ndata set contains 3 classes of 50 instances each, where each class refers to a\\ntype of iris plant.  One class is linearly separable from the other 2; the\\nlatter are NOT linearly separable from each other.\\n\\n.. topic:: References\\n\\n   - Fisher, R.A. \"The use of multiple measurements in taxonomic problems\"\\n     Annual Eugenics, 7, Part II, 179-188 (1936); also in \"Contributions to\\n     Mathematical Statistics\" (John Wiley, NY, 1950).\\n   - Duda, R.O., & Hart, P.E. (1973) Pattern Classification and Scene Analysis.\\n     (Q327.D83) John Wiley & Sons.  ISBN 0-471-22361-1.  See page 218.\\n   - Dasarathy, B.V. (1980) \"Nosing Around the Neighborhood: A New System\\n     Structure and Classification Rule for Recognition in Partially Exposed\\n     Environments\".  IEEE Transactions on Pattern Analysis and Machine\\n     Intelligence, Vol. PAMI-2, No. 1, 67-71.\\n   - Gates, G.W. (1972) \"The Reduced Nearest Neighbor Rule\".  IEEE Transactions\\n     on Information Theory, May 1972, 431-433.\\n   - See also: 1988 MLC Proceedings, 54-64.  Cheeseman et al\"s AUTOCLASS II\\n     conceptual clustering system finds 3 classes in the data.\\n   - Many, many more ...',\n",
              " 'feature_names': ['sepal length (cm)',\n",
              "  'sepal width (cm)',\n",
              "  'petal length (cm)',\n",
              "  'petal width (cm)'],\n",
              " 'filename': 'iris.csv',\n",
              " 'data_module': 'sklearn.datasets.data'}"
            ]
          },
          "metadata": {},
          "execution_count": 16
        }
      ]
    },
    {
      "cell_type": "markdown",
      "metadata": {
        "id": "opVUZEKwxg2j"
      },
      "source": [
        "Memilih dataset X(iris.data) dan dataset y(iris.target).\n"
      ]
    },
    {
      "cell_type": "code",
      "metadata": {
        "id": "xkg7c0E2xke7"
      },
      "source": [
        "X, y = iris.data, iris.target"
      ],
      "execution_count": 17,
      "outputs": []
    },
    {
      "cell_type": "markdown",
      "metadata": {
        "id": "0Xqu2XiEytEp"
      },
      "source": [
        "Membagi dataset menjadi data latih dan data uji"
      ]
    },
    {
      "cell_type": "code",
      "metadata": {
        "id": "uLFmd6qwyxZt"
      },
      "source": [
        "X_latih, X_uji, y_latih, y_uji = train_test_split(X, y, test_size=0.20, random_state=1234)\n"
      ],
      "execution_count": 18,
      "outputs": []
    },
    {
      "cell_type": "markdown",
      "metadata": {
        "id": "knn7-TJ0zBJn"
      },
      "source": [
        "Menuliskan algoritma KNN dalam bentuk fungsi"
      ]
    },
    {
      "cell_type": "code",
      "metadata": {
        "id": "UvRAS_m1zHQy"
      },
      "source": [
        "def _knn(x):\n",
        " # Menghitung jarak antara x baru dengan semua sampel di data latih\n",
        " jarak = [jarak_euclidean(x, x_latih) for x_latih in X_latih]\n",
        " # Mengurutkan data dan mengambil sejumlah k objek\n",
        " k_idx = np.argsort(jarak)[: k]\n",
        " # Mengambil kelas dari k tetangga terdekat dari data latih\n",
        " k_neighbor_labels = [y_latih[i] for i in k_idx]\n",
        " # Mengambil kelas yang paling sering muncul\n",
        " kelas_paling_banyak = Counter(k_neighbor_labels).most_common(1)\n",
        " return kelas_paling_banyak[0][0]\n",
        "\n",
        "def KNN(X_latih, y_latih, k, x_baru):\n",
        " y_pred= [_knn(x_i) for x_i in x_baru]\n",
        " return np.array(y_pred)"
      ],
      "execution_count": 19,
      "outputs": []
    },
    {
      "cell_type": "code",
      "metadata": {
        "colab": {
          "base_uri": "https://localhost:8080/"
        },
        "id": "hNeWs70FzWui",
        "outputId": "3ad5e4e5-51fa-4691-bc6d-fe5285eab2eb"
      },
      "source": [
        "y_pred=KNN(X_latih, y_latih, k, X_uji)\n",
        "y_pred"
      ],
      "execution_count": 20,
      "outputs": [
        {
          "output_type": "execute_result",
          "data": {
            "text/plain": [
              "array([1, 1, 2, 0, 1, 0, 0, 0, 1, 2, 1, 0, 2, 1, 0, 1, 2, 0, 2, 1, 1, 1,\n",
              "       1, 1, 2, 0, 2, 1, 2, 0])"
            ]
          },
          "metadata": {},
          "execution_count": 20
        }
      ]
    },
    {
      "cell_type": "code",
      "metadata": {
        "colab": {
          "base_uri": "https://localhost:8080/"
        },
        "id": "5OrerphazcUC",
        "outputId": "e2e0a85e-e596-4c78-94eb-374f93924a78"
      },
      "source": [
        "y_uji"
      ],
      "execution_count": 21,
      "outputs": [
        {
          "output_type": "execute_result",
          "data": {
            "text/plain": [
              "array([1, 1, 2, 0, 1, 0, 0, 0, 1, 2, 1, 0, 2, 1, 0, 1, 2, 0, 2, 1, 1, 1,\n",
              "       1, 1, 2, 0, 2, 1, 2, 0])"
            ]
          },
          "metadata": {},
          "execution_count": 21
        }
      ]
    },
    {
      "cell_type": "markdown",
      "metadata": {
        "id": "QypPCCukzf00"
      },
      "source": [
        "#**Evaluasi Model**\n",
        "\n",
        "Evaluasi model digunakan untuk melihat seberapa baik metode ini bekerja pada data uji yang diberikan. Salah\n",
        "satu metrik yang dapat digunakan adalah akurasi. Metrik ini menghitung jumlah hasil prediksi yang sesuai\n",
        "dengan label sesungguhnya kemudian dibagi dengan jumlah keseluruhan label. Menggunakan bahasa python\n",
        "akurasi dapat dituliskan sebagai berikut."
      ]
    },
    {
      "cell_type": "code",
      "metadata": {
        "id": "yBq5ZMkP0FL8"
      },
      "source": [
        "def akurasi(y_asli, y_pred):\n",
        " akurasi = np.sum(y_asli == y_pred) / len(y_asli)\n",
        " return akurasi"
      ],
      "execution_count": 22,
      "outputs": []
    },
    {
      "cell_type": "code",
      "metadata": {
        "colab": {
          "base_uri": "https://localhost:8080/"
        },
        "id": "en7id_fx0H_D",
        "outputId": "26d81c74-d357-4456-d417-2b425973926c"
      },
      "source": [
        "akurasi(y_uji , y_pred)\n"
      ],
      "execution_count": 23,
      "outputs": [
        {
          "output_type": "execute_result",
          "data": {
            "text/plain": [
              "1.0"
            ]
          },
          "metadata": {},
          "execution_count": 23
        }
      ]
    },
    {
      "cell_type": "markdown",
      "metadata": {
        "id": "u6V0iCct0M2Q"
      },
      "source": [
        "Diperoleh hasil akurasi 1.0 artinya metode KNN dapat melakukan prediksi dengan tepat untuk semua data uji\n",
        "yang digunakan"
      ]
    }
  ]
}